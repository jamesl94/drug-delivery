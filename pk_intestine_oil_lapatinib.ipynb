{
 "cells": [
  {
   "cell_type": "code",
<<<<<<< HEAD
   "execution_count": 3,
=======
   "execution_count": 78,
>>>>>>> 3c4aa32ecfc70d3b64aa0ec17fd8a60847e64d0d
   "metadata": {
    "collapsed": false
   },
   "outputs": [
    {
<<<<<<< HEAD
     "name": "stderr",
     "output_type": "stream",
     "text": [
      "/anaconda/lib/python2.7/site-packages/ipykernel/__main__.py:77: RuntimeWarning: invalid value encountered in double_scalars\n"
     ]
    },
    {
     "data": {
      "image/png": "iVBORw0KGgoAAAANSUhEUgAAAYsAAAEACAYAAABCl1qQAAAABHNCSVQICAgIfAhkiAAAAAlwSFlz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\n",
      "text/plain": [
       "<matplotlib.figure.Figure at 0x104153fd0>"
=======
     "data": {
      "image/png": "iVBORw0KGgoAAAANSUhEUgAAAYUAAAEACAYAAABcXmojAAAABHNCSVQICAgIfAhkiAAAAAlwSFlz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\noSBJagwFSVJjKEiSGkNBktT8H8XbPSUyx0V4AAAAAElFTkSuQmCC\n",
      "text/plain": [
       "<matplotlib.figure.Figure at 0x15344ca2a90>"
>>>>>>> 3c4aa32ecfc70d3b64aa0ec17fd8a60847e64d0d
      ]
     },
     "metadata": {},
     "output_type": "display_data"
    }
   ],
   "source": [
    "%matplotlib inline\n",
    "import numpy as np\n",
    "from scipy.integrate import  *\n",
    "from matplotlib import pyplot as plt\n",
    "\n",
    "\n",
    "def pk_intestine_oil_lapatinib(y,t): #Returns dy\n",
    "#total Summary of this function goes here\n",
    "#simulation of intestinal dissolution (y(1)), absorption and elimination (y(2)) of\n",
    "#lapatinib in fed state in the absence of digestion  -  -  >  output: drug conc in plasma  =  y(5)\n",
    "#y(3)  -  drug concentration in lumen, y(4)  -  fatty acid content in lumen\n",
    "#y(5)  -  drug concentration in plasma\n",
    "#y(6)  -  volume of lumen that drops after Tmax is reached\n",
    "\n",
    "    #constant parameters\n",
    "\n",
    "    Dp = 4.51e-10           #diffusion coefficient of solid drug in water (m2 / s)\n",
    "    Dm = 1.44e-10           #diffusion coefficient of micelles (r  =  22.7 A) in water (m2 / s)\n",
    "    V = 2.5e-4                #bulk volume (m3), 250 ml\n",
    "    h = 2.0e-5                #static layer around particles (m), 20 um\n",
    "    Satw = 7.0e3              #drug solubility in maleate buffer (mg / m3), 0.007 mg / ml  =  0.007 mg / cm3\n",
    "    M0 = 1500                   #initial dose of drug (mg)\n",
    "    dens = 1.318e9          #drug density (mg / m3)  -  -  >  1.318 g / cm3\n",
    "    r0 = 1.0e-5               #initial drug particle radius (m)  -  -  -  >  assumed 10 um\n",
    "    Chi = 55.63               #solubilization of drug per mmol of surfactant (mg / mmol) (808 ug / mL  -  7 ug / mL) / (12 mmol / L + 4 mmol / L  -  1.6 mmoL / L)\n",
    "    Vmax = 0.00044                 #Michaelis - Menten parameter for the absorption of fatty acids: units  =  mmol / cm3 / s  =  M / s\n",
    "    Km = 0.0022                   #Michaelis - Menten parameter for the absorption of fatty acids: units  =  mmol / cm3  =  M\n",
    "\n",
    "    # drug uptake in oil and oil digestion\n",
    "    #NOTE: some parameters need to be changed based on oil dosed and Vaq\n",
    "    P = 0e-8              #permeability oil / aqueous interface  (cm / s)\n",
    "    V_oil = 54            #initial volume of oil (cm3) 2g fat for low fat breakfast and 54g fat for high fat breakfast (Koch 2009)\n",
    "    Satoil = 0.0136            #solubility of drug in oil mg / cm3  =  mg / mL\n",
    "    FA0 = 2 * V_oil * 0.92 / 870 * 1000                #initial digestible fatty acids (mmol) Molarity of soybean oil  =  870 g / mol\n",
    "                               # NOTE: FA0 is 2 * initial mmol oil dosed\n",
    "    Kdig = 3.6e-9             #digestion constant, in mmol / sec * cm2\n",
    "    Kinh = 4.3e-4             #digestion constant inhibition, 4.3e - 4 1 / s\n",
    "    Vaq = V * 10**6                  #bulk volume (cm3), 40 ml\n",
    "    D0 = 3.86e-5                 #initial diameter of oil droplets (cm), 386 nm\n",
    "\n",
    "\n",
    "    Pgi = 1.01e-6          #intestinal permeability (m / s), from LP in FS, pH 6.5\n",
    "    rgi = 1.75e-2             #intestinal radius (m), 1.75 cm\n",
    "\n",
    "    Agi = 2 * V / rgi             #intestinal surface area (m2), calculated as lateral surface\n",
    "                                   #area of a cylinder\n",
    "\n",
    "    Vd = 80e-3              #volume of distribution (m3) (don't have one for LP... they say  >  2100 mL)\n",
    "    t_half = 13.4 * 60 * 60        #drug elimination in metabolism (s), 13.4 hours for lapatinib in Humans in fasted state from Koch et al. 2009\n",
    "\n",
    "    k_travel = 0.0005         #fluids travel time to exit intestinal\n",
    "                               #Note: if V_aq is changed a lot, time to exit the\n",
    "                               #small intestine might change, in this case k_travel needs\n",
    "                               #to be changed accordingly\n",
    "\n",
    "    #define number of ODEs in the system\n",
    "    dy = np.zeros((6,1))\n",
    "\n",
    "    N = V_oil / (D0**3 * 3.14 * 1 / 6)      #number of oil droplets\n",
    "\n",
    "    #calculation constant parameters in dissolution equation\n",
    "    par = (3 * (M0**(1. / 3)) / (h * dens * r0))\n",
    "\n",
    "    #calculation of solubility in micelles time - dependent, function of y(4)\n",
    "    #1e6 conversion from mg / cm3 to mg / m3\n",
    "    Satm = (Chi * (14.4e-3+y[3])) * 1e6\n",
    "\n",
    "    #calculation of Kmw, partition coeff micelles / buffer time dependent\n",
    "    #1e6 conversion from mg / cm3 to mg / m3\n",
    "    Kmw = Satm / Satw\n",
    "\n",
    "    #calculation of Koaq, partition coeff oil / aqueous\n",
    "    Koaq = Satoil / ((Chi * (14.4e-3 + y[3]))+(Satw * 10**-6))\n",
    "\n",
    "    #calculation of total initial oil surface area (cm2)\n",
    "    Aoil = N * 3.14 * ((D0)**2) * (((FA0 - (y[3] * Vaq)) / FA0)**(2. / 3))\n",
    "    # unit check: N  -  unitless D0  -  cm FA0  -  mmol y(4)  -  mmol / mL, Vaq  -  mL\n",
    "    # Aoil  -  cm2\n",
    "\n",
    "    kel = 0.693 / t_half             # elimination constant (1 / s)\n",
    "\n",
    "    dy = np.zeros(6)\n",
    "\n",
    "\n",
    "    if t < 14400:\n",
    "        # t is residence time (sec)+ emptying time (sec) in fed state,\n",
    "                       # 3 hours+1 hour to exit the small intestine in Humans\n",
    "                 # NOTE: residence time + emptying time might need to be adjusted for Rats\n",
    "        if y[0] > 0:\n",
    "            #y(1) is mass of drug in solid (mg)\n",
    "            if (Satm - ((y[2] * Kmw) / (Kmw + 1))) > 0:\n",
    "                dy[0] =   -(par * y[0]**(2. / 3) * (Dp * (Satw - (y[2] /\n",
    "                 (Kmw+1)))+Dm * (Satm - ((y[2] * Kmw) / (Kmw+1)))))\n",
    "            else:\n",
    "                dy[0] = 0\n",
    "\n",
    "        #drug uptake in oil, y(2) is mass (mg)\n",
    "        dy[1] = P * Aoil * y[2] * 1e-6 # - (y(2) / (V_oil * Koaq)))\n",
    "\n",
    "        if y[0] > 0:\n",
    "            #y(3) is drug conc. in aqueous medium in the lumen (mg / m3)\n",
    "            dy[2] = (par / V * ((y[0]**(2 / 3)) * (Dp * (Satw - (y[2] / (Kmw+1)))+Dm * (Satm - ((y[2] * Kmw) / (Kmw+1))))) - dy[1] / V - Agi * Pgi * (y[2] / Vd))\n",
    "        else:\n",
    "            dy[2] =  -(Agi * Pgi * y[2] / Vd)\n",
    "\n",
    "\n",
    "        if FA0 -(y[3] * Vaq) > 0:\n",
    "            #oil digestion, y(4) is concentration of FA released  -  concentration of FA absorbed (mmol / cm3  =  M)\n",
    "            dy[3] = Kdig / Vaq * Aoil - Kinh * y[3] - Vmax * y[3] / (Km+y[3])\n",
    "\n",
    "\n",
    "        if t < 10800:   # t is residence time (sec), 3 hours in human small intestine in fed state\n",
    "                 # residence time might need to be adjusted for Rats\n",
    "\n",
    "            #y(5) is drug conc. in plasma, mg / m3  =  ug / L  =  ng / mL\n",
    "            dy[4] = (Agi * Pgi * y[2] / Vd) - (kel * y[4])\n",
    "        else:\n",
    "            dy[5] =  -k_travel * y[5]\n",
    "            dy[4] = (y[5] * Pgi * y[2] / Vd) - (kel * y[4])\n",
    "\n",
    "\n",
    "    return dy\n",
    "\n",
    "    # y(3) is in mg / m3  =  ng / cm3  =  ng / mL\n",
    "    # to convert to ug / mL divide by 10^3\n",
    "\n",
    "    #To recall from the command prompt:\n",
    "    #options = odeset('RelTol',2.5e - 13,'AbsTol',[2.5e - 13 2.5e - 13 2.5e - 13 2.5e - 13 2.5e - 13 2.5e - 13],'nonnegative',[1 2 3 4 5 6])\n",
    "    #[T,Y] = ode45(@pk_intestine_oil_lapatinib,[1 18000],[1500 0 0 0 0 0.0228571],options)\n",
    "         # where first number (250) is initial value for Dose: if Dose is changed in code,\n",
    "         # first number changes accordingly\n",
    "         #last number (0.0228571) is initial value for Agi calculated in line 61 (surface area of intestine)\n",
    "         # Agi depends on V = volume aqueous, if V is changed, Agi needs to be\n",
    "         # changed here\n",
    "\n",
    "times = np.arange(0, 1000)\n",
    "\n",
    "\n",
    "sol = odeint(pk_intestine_oil_lapatinib, [0,10,0,1,1,1], times)\n",
    "plt.plot(sol[:,1], times)\n",
    "plt.show()\n"
   ]
  },
  {
   "cell_type": "code",
<<<<<<< HEAD
=======
   "execution_count": 65,
   "metadata": {
    "collapsed": false
   },
   "outputs": [
    {
     "name": "stderr",
     "output_type": "stream",
     "text": [
      "C:\\Users\\Joe Laviano\\Anaconda3\\lib\\site-packages\\ipykernel\\__main__.py:34: RuntimeWarning: invalid value encountered in power\n"
     ]
    }
   ],
   "source": [
    "%matplotlib inline\n",
    "import numpy as np\n",
    "from scipy.integrate import  *\n",
    "from matplotlib import pyplot as plt\n",
    "\n",
    "\n",
    "blocksize = 100 #Number of Spaces within each variable\n",
    "\n",
    "ResultArray = np.zeros((blocksize*blocksize,3)) #Initiate an array for the loop results\n",
    "n=0 #Initiate a Counter for this array\n",
    "\n",
    "D0Array = np.linspace(5e-5,5e-4,blocksize) #Sensitivity of D0\n",
    "COilArray = np.linspace(1,100,blocksize) #Sensitivity of c_oil\n",
    "\n",
    "for j in D0Array: \n",
    "    for i in COilArray:\n",
    "\n",
    "        # define digestion equation - follows model by Li & McClements 2010\n",
    "        # y - concentration of FA produced (mmol/L), t - digestion time (min)\n",
    "        def intestine_digestion(y,t):\n",
    "            # LIPID INPUT PARAMETERS\n",
    "            Kdig = 3.116e-7;              # digestion rate constant (mmol/min*cm^2)\n",
    "            c_oil = i;                    # concentration of ingested TG (mmol/L)\n",
    "            Vbulk = 15;                   # total volume of solution (mL)\n",
    "            MWoil = 885.4;                # molecular weight of ingested TG (g/mol)\n",
    "            dens_oil = 0.92;              # density of ingested oil (g/mL)\n",
    "            #D0 = 3.86e-5;                 # initial diameter of oil droplets (cm) - 386 nm\n",
    "            D0 = j\n",
    "            # CORRELATIONS\n",
    "            m_oil = c_oil*MWoil*Vbulk/1e6;      # starting mass of TG (g)\n",
    "            V_oil = m_oil/dens_oil;             # starting volume of oil (mL)\n",
    "            FA0 = 3*c_oil;                      # initial digestible fatty acids, mmol/L\n",
    "            N = V_oil/(D0**3*3.14/6);           # number of oil droplets\n",
    "\n",
    "            # PROCESS\n",
    "            dy = (Kdig/Vbulk)*N*3.14*(D0**2)*((FA0-y)/FA0)**(2/3)*1000;\n",
    "\n",
    "            return dy\n",
    "\n",
    "\n",
    "        time = np.linspace(0,180,180)\n",
    "\n",
    "        FA = odeint(intestine_digestion, 0, time)\n",
    "\n",
    "        #plt.plot(time,FA,label=\"c_oil =%s mmol\"%i)\n",
    "\n",
    "\n",
    "        \n",
    "        ResultArray[n]= (i,j,np.nanmax(FA)) #Add the c_oil, D0, and max FA into the array\n",
    "        n+=1 #Count up\n",
    "        \n",
    "    #plt.title(\"Intial Diameter %s cm\"%j)\n",
    "    #plt.xlabel(\"time (min)\")\n",
    "    #plt.ylabel(\"FA Concentration (mmol)\")\n",
    "    #plt.legend(loc=\"upper left\")\n",
    "    #plt.show()"
   ]
  },
  {
   "cell_type": "code",
   "execution_count": 66,
   "metadata": {
    "collapsed": false
   },
   "outputs": [],
   "source": [
    "FAArray = ResultArray[:,2]\n",
    "FAArray = np.reshape(FAArray,(blocksize,blocksize))"
   ]
  },
  {
   "cell_type": "code",
   "execution_count": 67,
   "metadata": {
    "collapsed": false
   },
   "outputs": [
    {
     "data": {
      "image/png": "iVBORw0KGgoAAAANSUhEUgAAAZgAAAEaCAYAAAAsQ0GGAAAABHNCSVQICAgIfAhkiAAAAAlwSFlz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\nLqEBAAAAAElFTkSuQmCC\n",
      "text/plain": [
       "<matplotlib.figure.Figure at 0x229597ca7b8>"
      ]
     },
     "metadata": {},
     "output_type": "display_data"
    }
   ],
   "source": [
    "\n",
    "X, Y = np.meshgrid(COilArray,D0Array)\n",
    "\n",
    "plt.contourf(X,Y,FAArray)\n",
    "plt.title(\"Sensitivity\")\n",
    "plt.xlabel(\"c_oil (mM)\")\n",
    "plt.ylabel(\"D0 (cm)\")\n",
    "cb = plt.colorbar(plt.contourf(X,Y,FAArray))\n",
    "cb.set_label(\"Fatty Acid Concentration (mM)\")\n",
    "\n"
   ]
  },
  {
   "cell_type": "code",
>>>>>>> 3c4aa32ecfc70d3b64aa0ec17fd8a60847e64d0d
   "execution_count": null,
   "metadata": {
    "collapsed": true
   },
   "outputs": [],
   "source": []
  }
 ],
 "metadata": {
  "anaconda-cloud": {},
  "kernelspec": {
   "display_name": "Python 2",
   "language": "python",
   "name": "python2"
  },
  "language_info": {
   "codemirror_mode": {
    "name": "ipython",
    "version": 2
   },
   "file_extension": ".py",
   "mimetype": "text/x-python",
   "name": "python",
   "nbconvert_exporter": "python",
   "pygments_lexer": "ipython2",
   "version": "2.7.12"
  }
 },
 "nbformat": 4,
 "nbformat_minor": 0
}
